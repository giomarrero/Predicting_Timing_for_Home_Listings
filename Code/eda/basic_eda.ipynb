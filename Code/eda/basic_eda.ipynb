{
 "cells": [
  {
   "cell_type": "code",
   "execution_count": 26,
   "metadata": {},
   "outputs": [
    {
     "name": "stderr",
     "output_type": "stream",
     "text": [
      "2023-11-01 13:45:40.355665: I tensorflow/core/util/port.cc:110] oneDNN custom operations are on. You may see slightly different numerical results due to floating-point round-off errors from different computation orders. To turn them off, set the environment variable `TF_ENABLE_ONEDNN_OPTS=0`.\n",
      "2023-11-01 13:45:40.375008: I tensorflow/core/platform/cpu_feature_guard.cc:182] This TensorFlow binary is optimized to use available CPU instructions in performance-critical operations.\n",
      "To enable the following instructions: AVX2 AVX512F AVX512_VNNI AVX512_BF16 FMA, in other operations, rebuild TensorFlow with the appropriate compiler flags.\n",
      "2023-11-01 13:45:40.735064: W tensorflow/compiler/tf2tensorrt/utils/py_utils.cc:38] TF-TRT Warning: Could not find TensorRT\n"
     ]
    }
   ],
   "source": [
    "import pandas as pd\n",
    "import numpy as np\n",
    "import matplotlib.pyplot as plt\n",
    "import tensorflow as tf"
   ]
  },
  {
   "cell_type": "code",
   "execution_count": 27,
   "metadata": {},
   "outputs": [
    {
     "name": "stderr",
     "output_type": "stream",
     "text": [
      "/tmp/ipykernel_19818/3505859450.py:1: DtypeWarning: Columns (0,1) have mixed types. Specify dtype option on import or set low_memory=False.\n",
      "  df = pd.read_csv('../../Data/data_lake_raw/RDC_Inventory_Core_Metrics_Zip_History.csv').iloc[:-1]\n"
     ]
    }
   ],
   "source": [
    "df = pd.read_csv('../../Data/data_lake_raw/RDC_Inventory_Core_Metrics_Zip_History.csv').iloc[:-1]\n"
   ]
  },
  {
   "cell_type": "code",
   "execution_count": 28,
   "metadata": {},
   "outputs": [
    {
     "data": {
      "text/plain": [
       "(2465722, 40)"
      ]
     },
     "execution_count": 28,
     "metadata": {},
     "output_type": "execute_result"
    }
   ],
   "source": [
    "df.shape"
   ]
  },
  {
   "cell_type": "code",
   "execution_count": 29,
   "metadata": {},
   "outputs": [
    {
     "name": "stdout",
     "output_type": "stream",
     "text": [
      "201607\n",
      "202309\n"
     ]
    }
   ],
   "source": [
    "# get max/min dates for i rates\n",
    "\n",
    "df['month_date_yyyymm'] = df['month_date_yyyymm'].astype(int)\n",
    "\n",
    "print(df['month_date_yyyymm'].min())\n",
    "\n",
    "print(df['month_date_yyyymm'].max())"
   ]
  },
  {
   "cell_type": "code",
   "execution_count": 30,
   "metadata": {},
   "outputs": [],
   "source": [
    "cols_to_drop = df.filter(regex='_yy$|_mm$', axis=1).columns\n",
    "\n",
    "df = df.drop(cols_to_drop, axis=1)"
   ]
  },
  {
   "cell_type": "code",
   "execution_count": 31,
   "metadata": {},
   "outputs": [
    {
     "data": {
      "text/html": [
       "<div>\n",
       "<style scoped>\n",
       "    .dataframe tbody tr th:only-of-type {\n",
       "        vertical-align: middle;\n",
       "    }\n",
       "\n",
       "    .dataframe tbody tr th {\n",
       "        vertical-align: top;\n",
       "    }\n",
       "\n",
       "    .dataframe thead th {\n",
       "        text-align: right;\n",
       "    }\n",
       "</style>\n",
       "<table border=\"1\" class=\"dataframe\">\n",
       "  <thead>\n",
       "    <tr style=\"text-align: right;\">\n",
       "      <th></th>\n",
       "      <th>month_date_yyyymm</th>\n",
       "      <th>postal_code</th>\n",
       "      <th>zip_name</th>\n",
       "      <th>median_listing_price</th>\n",
       "      <th>active_listing_count</th>\n",
       "      <th>median_days_on_market</th>\n",
       "      <th>new_listing_count</th>\n",
       "      <th>price_increased_count</th>\n",
       "      <th>price_reduced_count</th>\n",
       "      <th>pending_listing_count</th>\n",
       "      <th>median_listing_price_per_square_foot</th>\n",
       "      <th>median_square_feet</th>\n",
       "      <th>average_listing_price</th>\n",
       "      <th>total_listing_count</th>\n",
       "      <th>pending_ratio</th>\n",
       "      <th>quality_flag</th>\n",
       "    </tr>\n",
       "  </thead>\n",
       "  <tbody>\n",
       "    <tr>\n",
       "      <th>0</th>\n",
       "      <td>202309</td>\n",
       "      <td>55127</td>\n",
       "      <td>saint paul, mn</td>\n",
       "      <td>635000.0</td>\n",
       "      <td>53.0</td>\n",
       "      <td>39.0</td>\n",
       "      <td>36.0</td>\n",
       "      <td>0.0</td>\n",
       "      <td>20.0</td>\n",
       "      <td>50.0</td>\n",
       "      <td>235.0</td>\n",
       "      <td>2708.0</td>\n",
       "      <td>812323.0</td>\n",
       "      <td>106.0</td>\n",
       "      <td>0.9434</td>\n",
       "      <td>0.0</td>\n",
       "    </tr>\n",
       "    <tr>\n",
       "      <th>1</th>\n",
       "      <td>202309</td>\n",
       "      <td>18354</td>\n",
       "      <td>sciota, pa</td>\n",
       "      <td>399999.0</td>\n",
       "      <td>2.0</td>\n",
       "      <td>195.0</td>\n",
       "      <td>0.0</td>\n",
       "      <td>0.0</td>\n",
       "      <td>0.0</td>\n",
       "      <td>2.0</td>\n",
       "      <td>113.0</td>\n",
       "      <td>3564.0</td>\n",
       "      <td>399999.0</td>\n",
       "      <td>3.0</td>\n",
       "      <td>1.0000</td>\n",
       "      <td>1.0</td>\n",
       "    </tr>\n",
       "    <tr>\n",
       "      <th>2</th>\n",
       "      <td>202309</td>\n",
       "      <td>35593</td>\n",
       "      <td>vina, al</td>\n",
       "      <td>275000.0</td>\n",
       "      <td>1.0</td>\n",
       "      <td>47.0</td>\n",
       "      <td>0.0</td>\n",
       "      <td>0.0</td>\n",
       "      <td>0.0</td>\n",
       "      <td>1.0</td>\n",
       "      <td>84.0</td>\n",
       "      <td>3256.0</td>\n",
       "      <td>275000.0</td>\n",
       "      <td>2.0</td>\n",
       "      <td>1.0000</td>\n",
       "      <td>1.0</td>\n",
       "    </tr>\n",
       "  </tbody>\n",
       "</table>\n",
       "</div>"
      ],
      "text/plain": [
       "   month_date_yyyymm postal_code        zip_name  median_listing_price  \\\n",
       "0             202309       55127  saint paul, mn              635000.0   \n",
       "1             202309       18354      sciota, pa              399999.0   \n",
       "2             202309       35593        vina, al              275000.0   \n",
       "\n",
       "   active_listing_count  median_days_on_market  new_listing_count  \\\n",
       "0                  53.0                   39.0               36.0   \n",
       "1                   2.0                  195.0                0.0   \n",
       "2                   1.0                   47.0                0.0   \n",
       "\n",
       "   price_increased_count  price_reduced_count  pending_listing_count  \\\n",
       "0                    0.0                 20.0                   50.0   \n",
       "1                    0.0                  0.0                    2.0   \n",
       "2                    0.0                  0.0                    1.0   \n",
       "\n",
       "   median_listing_price_per_square_foot  median_square_feet  \\\n",
       "0                                 235.0              2708.0   \n",
       "1                                 113.0              3564.0   \n",
       "2                                  84.0              3256.0   \n",
       "\n",
       "   average_listing_price  total_listing_count  pending_ratio  quality_flag  \n",
       "0               812323.0                106.0         0.9434           0.0  \n",
       "1               399999.0                  3.0         1.0000           1.0  \n",
       "2               275000.0                  2.0         1.0000           1.0  "
      ]
     },
     "execution_count": 31,
     "metadata": {},
     "output_type": "execute_result"
    }
   ],
   "source": [
    "df.head(3)"
   ]
  },
  {
   "cell_type": "code",
   "execution_count": 34,
   "metadata": {},
   "outputs": [
    {
     "data": {
      "text/html": [
       "<div>\n",
       "<style scoped>\n",
       "    .dataframe tbody tr th:only-of-type {\n",
       "        vertical-align: middle;\n",
       "    }\n",
       "\n",
       "    .dataframe tbody tr th {\n",
       "        vertical-align: top;\n",
       "    }\n",
       "\n",
       "    .dataframe thead th {\n",
       "        text-align: right;\n",
       "    }\n",
       "</style>\n",
       "<table border=\"1\" class=\"dataframe\">\n",
       "  <thead>\n",
       "    <tr style=\"text-align: right;\">\n",
       "      <th></th>\n",
       "      <th>Column Name</th>\n",
       "      <th>Data Type</th>\n",
       "      <th>Empty Values Count</th>\n",
       "      <th>Empty Values Percent</th>\n",
       "    </tr>\n",
       "  </thead>\n",
       "  <tbody>\n",
       "    <tr>\n",
       "      <th>0</th>\n",
       "      <td>month_date_yyyymm</td>\n",
       "      <td>int64</td>\n",
       "      <td>0</td>\n",
       "      <td>0.000000</td>\n",
       "    </tr>\n",
       "    <tr>\n",
       "      <th>1</th>\n",
       "      <td>postal_code</td>\n",
       "      <td>object</td>\n",
       "      <td>0</td>\n",
       "      <td>0.000000</td>\n",
       "    </tr>\n",
       "    <tr>\n",
       "      <th>2</th>\n",
       "      <td>zip_name</td>\n",
       "      <td>object</td>\n",
       "      <td>69791</td>\n",
       "      <td>2.830449</td>\n",
       "    </tr>\n",
       "    <tr>\n",
       "      <th>3</th>\n",
       "      <td>median_listing_price</td>\n",
       "      <td>float64</td>\n",
       "      <td>7016</td>\n",
       "      <td>0.284541</td>\n",
       "    </tr>\n",
       "    <tr>\n",
       "      <th>4</th>\n",
       "      <td>active_listing_count</td>\n",
       "      <td>float64</td>\n",
       "      <td>4730</td>\n",
       "      <td>0.191830</td>\n",
       "    </tr>\n",
       "    <tr>\n",
       "      <th>5</th>\n",
       "      <td>median_days_on_market</td>\n",
       "      <td>float64</td>\n",
       "      <td>25630</td>\n",
       "      <td>1.039452</td>\n",
       "    </tr>\n",
       "    <tr>\n",
       "      <th>6</th>\n",
       "      <td>new_listing_count</td>\n",
       "      <td>float64</td>\n",
       "      <td>3279</td>\n",
       "      <td>0.132983</td>\n",
       "    </tr>\n",
       "    <tr>\n",
       "      <th>7</th>\n",
       "      <td>price_increased_count</td>\n",
       "      <td>float64</td>\n",
       "      <td>3279</td>\n",
       "      <td>0.132983</td>\n",
       "    </tr>\n",
       "    <tr>\n",
       "      <th>8</th>\n",
       "      <td>price_reduced_count</td>\n",
       "      <td>float64</td>\n",
       "      <td>3279</td>\n",
       "      <td>0.132983</td>\n",
       "    </tr>\n",
       "    <tr>\n",
       "      <th>9</th>\n",
       "      <td>pending_listing_count</td>\n",
       "      <td>float64</td>\n",
       "      <td>555169</td>\n",
       "      <td>22.515474</td>\n",
       "    </tr>\n",
       "    <tr>\n",
       "      <th>10</th>\n",
       "      <td>median_listing_price_per_square_foot</td>\n",
       "      <td>float64</td>\n",
       "      <td>27186</td>\n",
       "      <td>1.102557</td>\n",
       "    </tr>\n",
       "    <tr>\n",
       "      <th>11</th>\n",
       "      <td>median_square_feet</td>\n",
       "      <td>float64</td>\n",
       "      <td>26900</td>\n",
       "      <td>1.090958</td>\n",
       "    </tr>\n",
       "    <tr>\n",
       "      <th>12</th>\n",
       "      <td>average_listing_price</td>\n",
       "      <td>float64</td>\n",
       "      <td>7016</td>\n",
       "      <td>0.284541</td>\n",
       "    </tr>\n",
       "    <tr>\n",
       "      <th>13</th>\n",
       "      <td>total_listing_count</td>\n",
       "      <td>float64</td>\n",
       "      <td>3279</td>\n",
       "      <td>0.132983</td>\n",
       "    </tr>\n",
       "    <tr>\n",
       "      <th>14</th>\n",
       "      <td>pending_ratio</td>\n",
       "      <td>float64</td>\n",
       "      <td>576721</td>\n",
       "      <td>23.389539</td>\n",
       "    </tr>\n",
       "    <tr>\n",
       "      <th>15</th>\n",
       "      <td>quality_flag</td>\n",
       "      <td>float64</td>\n",
       "      <td>348428</td>\n",
       "      <td>14.130871</td>\n",
       "    </tr>\n",
       "  </tbody>\n",
       "</table>\n",
       "</div>"
      ],
      "text/plain": [
       "                             Column Name Data Type  Empty Values Count  \\\n",
       "0                      month_date_yyyymm     int64                   0   \n",
       "1                            postal_code    object                   0   \n",
       "2                               zip_name    object               69791   \n",
       "3                   median_listing_price   float64                7016   \n",
       "4                   active_listing_count   float64                4730   \n",
       "5                  median_days_on_market   float64               25630   \n",
       "6                      new_listing_count   float64                3279   \n",
       "7                  price_increased_count   float64                3279   \n",
       "8                    price_reduced_count   float64                3279   \n",
       "9                  pending_listing_count   float64              555169   \n",
       "10  median_listing_price_per_square_foot   float64               27186   \n",
       "11                    median_square_feet   float64               26900   \n",
       "12                 average_listing_price   float64                7016   \n",
       "13                   total_listing_count   float64                3279   \n",
       "14                         pending_ratio   float64              576721   \n",
       "15                          quality_flag   float64              348428   \n",
       "\n",
       "    Empty Values Percent  \n",
       "0               0.000000  \n",
       "1               0.000000  \n",
       "2               2.830449  \n",
       "3               0.284541  \n",
       "4               0.191830  \n",
       "5               1.039452  \n",
       "6               0.132983  \n",
       "7               0.132983  \n",
       "8               0.132983  \n",
       "9              22.515474  \n",
       "10              1.102557  \n",
       "11              1.090958  \n",
       "12              0.284541  \n",
       "13              0.132983  \n",
       "14             23.389539  \n",
       "15             14.130871  "
      ]
     },
     "execution_count": 34,
     "metadata": {},
     "output_type": "execute_result"
    }
   ],
   "source": [
    "data_types = df.dtypes\n",
    "\n",
    "empty_values_count = df.isnull().sum()\n",
    "\n",
    "empty_values_percent = (empty_values_count / len(df)) * 100\n",
    "\n",
    "result = pd.DataFrame({\n",
    "    'Column Name': df.columns,\n",
    "    'Data Type': data_types.values,\n",
    "    'Empty Values Count': empty_values_count.values,\n",
    "    'Empty Values Percent': empty_values_percent.values\n",
    "})\n",
    "\n",
    "result\n"
   ]
  },
  {
   "cell_type": "code",
   "execution_count": 49,
   "metadata": {},
   "outputs": [],
   "source": [
    "# see if I can update zip_names\n",
    "mapping = df.dropna(subset=['zip_name']).set_index('postal_code')['zip_name'].to_dict()\n",
    "df['zip_name'] = df['postal_code'].map(mapping).where(df['zip_name'].isna(), df['zip_name'])"
   ]
  },
  {
   "cell_type": "code",
   "execution_count": 67,
   "metadata": {},
   "outputs": [
    {
     "data": {
      "text/plain": [
       "postal_code\n",
       "55127    87\n",
       "61732    87\n",
       "59047    87\n",
       "94402    87\n",
       "66083    87\n",
       "Name: count, dtype: int64"
      ]
     },
     "execution_count": 67,
     "metadata": {},
     "output_type": "execute_result"
    }
   ],
   "source": [
    "row_counts = df['postal_code'].value_counts()\n",
    "\n",
    "row_counts.head()"
   ]
  },
  {
   "cell_type": "code",
   "execution_count": 44,
   "metadata": {},
   "outputs": [
    {
     "data": {
      "text/plain": [
       "481.7701149425287"
      ]
     },
     "execution_count": 44,
     "metadata": {},
     "output_type": "execute_result"
    }
   ],
   "source": [
    "len(df['postal_code'].unique().tolist())"
   ]
  },
  {
   "cell_type": "code",
   "execution_count": 43,
   "metadata": {},
   "outputs": [
    {
     "data": {
      "text/plain": [
       "87"
      ]
     },
     "execution_count": 43,
     "metadata": {},
     "output_type": "execute_result"
    }
   ],
   "source": [
    "len(df['month_date_yyyymm'].unique().tolist())"
   ]
  }
 ],
 "metadata": {
  "kernelspec": {
   "display_name": "vision_tasks",
   "language": "python",
   "name": "python3"
  },
  "language_info": {
   "codemirror_mode": {
    "name": "ipython",
    "version": 3
   },
   "file_extension": ".py",
   "mimetype": "text/x-python",
   "name": "python",
   "nbconvert_exporter": "python",
   "pygments_lexer": "ipython3",
   "version": "3.10.0"
  },
  "orig_nbformat": 4
 },
 "nbformat": 4,
 "nbformat_minor": 2
}
